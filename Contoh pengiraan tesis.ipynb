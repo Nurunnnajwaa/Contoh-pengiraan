{
 "cells": [
  {
   "cell_type": "markdown",
   "id": "3d0052e8",
   "metadata": {},
   "source": [
    "## Import pakej yang diperlukan"
   ]
  },
  {
   "cell_type": "code",
   "execution_count": 18,
   "id": "b3ae22a2",
   "metadata": {},
   "outputs": [],
   "source": [
    "import numpy as np\n",
    "import pandas as pd\n",
    "import networkx as nx"
   ]
  },
  {
   "cell_type": "markdown",
   "id": "3b6fbdc6",
   "metadata": {},
   "source": [
    "### Rangkaian contoh yang tidak berpemberat dan tidak berarah (Rajah 2.2)"
   ]
  },
  {
   "cell_type": "code",
   "execution_count": 2,
   "id": "7ab67b56",
   "metadata": {},
   "outputs": [
    {
     "name": "stdout",
     "output_type": "stream",
     "text": [
      "Bucu: 6\n",
      "Sisi: 7\n"
     ]
    }
   ],
   "source": [
    "A1=np.matrix([\n",
    "  [0, 1, 1, 0, 0, 0],\n",
    "  [1, 0, 1, 0, 0, 0],\n",
    "  [1, 1, 0, 1, 0, 0],\n",
    "  [0, 0, 1, 0, 1, 1],\n",
    "  [0, 0, 0, 1, 0, 1],\n",
    "  [0, 0, 0, 1, 1, 0]\n",
    "])\n",
    "\n",
    "G1=nx.from_numpy_matrix(A1)\n",
    "\n",
    "n_G1,m_G1 = G1.order(), G1.size()\n",
    "\n",
    "print(\"Bucu:\", n_G1)\n",
    "print(\"Sisi:\", m_G1)"
   ]
  },
  {
   "cell_type": "markdown",
   "id": "f1eb0339",
   "metadata": {},
   "source": [
    "### Rangkaian contoh yang berpemberat dan tidak berarah (Rajah 2.3) "
   ]
  },
  {
   "cell_type": "code",
   "execution_count": 3,
   "id": "c0d3af14",
   "metadata": {},
   "outputs": [
    {
     "name": "stdout",
     "output_type": "stream",
     "text": [
      "Bucu: 6\n",
      "Sisi: 7\n"
     ]
    }
   ],
   "source": [
    "A2=np.matrix([\n",
    "  [0, 2, 1, 0, 0, 0],\n",
    "  [2, 0, 2, 0, 0, 0],\n",
    "  [1, 2, 0, 3, 0, 0],\n",
    "  [0, 0, 3, 0, 4, 1],\n",
    "  [0, 0, 0, 4, 0, 2],\n",
    "  [0, 0, 0, 1, 2, 0]\n",
    "])\n",
    "\n",
    "G2=nx.from_numpy_matrix(A2)\n",
    "\n",
    "n_G2,m_G2 = G2.order(), G2.size()\n",
    "\n",
    "print(\"Bucu:\", n_G2)\n",
    "print(\"Sisi:\", m_G2)"
   ]
  },
  {
   "cell_type": "markdown",
   "id": "05894418",
   "metadata": {},
   "source": [
    "### Rangkaian contoh yang tidak berpemberat dan berarah (Rajah 2.5) "
   ]
  },
  {
   "cell_type": "code",
   "execution_count": 4,
   "id": "4a620375",
   "metadata": {},
   "outputs": [
    {
     "name": "stdout",
     "output_type": "stream",
     "text": [
      "Bucu: 6\n",
      "Sisi: 8\n"
     ]
    }
   ],
   "source": [
    "A3=np.matrix([\n",
    "  [0, 1, 0, 0, 0, 0],\n",
    "  [0, 0, 1, 0, 0, 0],\n",
    "  [1, 0, 0, 1, 0, 0],\n",
    "  [0, 0, 1, 0, 0, 1],\n",
    "  [0, 0, 0, 1, 0, 0],\n",
    "  [0, 0, 0, 0, 1, 0]\n",
    "])\n",
    "\n",
    "G3=nx.from_numpy_matrix(A3, create_using=nx.DiGraph)\n",
    "\n",
    "\n",
    "n_G3,m_G3 = G3.order(), G3.size()\n",
    "\n",
    "print(\"Bucu:\", n_G3)\n",
    "print(\"Sisi:\", m_G3)"
   ]
  },
  {
   "cell_type": "markdown",
   "id": "d1f67ce0",
   "metadata": {},
   "source": [
    "### Ketumpatan rangkaian"
   ]
  },
  {
   "cell_type": "code",
   "execution_count": 5,
   "id": "80c87237",
   "metadata": {},
   "outputs": [
    {
     "name": "stdout",
     "output_type": "stream",
     "text": [
      "Ketumpatan rangkaian Rajah 2.2: 0.4666666666666667\n",
      "Ketumpatan rangkaian Rajah 2.5: 0.26666666666666666\n"
     ]
    }
   ],
   "source": [
    "#Bagi G1 (Rajah 2.2) dan G3 (Rajah 2.5)\n",
    "\n",
    "ketumpatan_G1 = nx.density(G1)\n",
    "ketumpatan_G3 = nx.density(G3)\n",
    "\n",
    "print(\"Ketumpatan rangkaian Rajah 2.2:\", ketumpatan_G1)\n",
    "print(\"Ketumpatan rangkaian Rajah 2.5:\", ketumpatan_G3)"
   ]
  },
  {
   "cell_type": "markdown",
   "id": "8f634777",
   "metadata": {},
   "source": [
    "### Darjah dan purata darjah"
   ]
  },
  {
   "cell_type": "code",
   "execution_count": 10,
   "id": "010fa357",
   "metadata": {},
   "outputs": [
    {
     "name": "stdout",
     "output_type": "stream",
     "text": [
      "Darjah Rajah 2.2: {0: 2, 1: 2, 2: 3, 3: 3, 4: 2, 5: 2}\n"
     ]
    }
   ],
   "source": [
    "#Bagi G1 (Rajah 2.2)\n",
    "\n",
    "darjah_G1 =  dict(G1.degree(G1.nodes()))\n",
    "\n",
    "nx.set_node_attributes(G1, darjah_G1, 'darjah')\n",
    "\n",
    "print(\"Darjah Rajah 2.2:\", darjah_G1)\n",
    "#output {id bucu: darjah}"
   ]
  },
  {
   "cell_type": "code",
   "execution_count": 13,
   "id": "41f8bb55",
   "metadata": {},
   "outputs": [
    {
     "name": "stdout",
     "output_type": "stream",
     "text": [
      "Purata darjah Rajah 2.2: 2.3333333333333335\n"
     ]
    }
   ],
   "source": [
    "#Bagi G1 (Rajah 2.2)\n",
    "\n",
    "bil_bucu_G1 = G1.number_of_nodes()\n",
    "jumlah_darjah_G1 = sum([d for n, d in G1.degree()])\n",
    "\n",
    "purata_darjah_G1 = jumlah_darjah_G1 / float(bil_bucu_G1)\n",
    "\n",
    "print(\"Purata darjah Rajah 2.2:\", purata_darjah_G1)"
   ]
  },
  {
   "cell_type": "code",
   "execution_count": 15,
   "id": "bb49f371",
   "metadata": {},
   "outputs": [
    {
     "name": "stdout",
     "output_type": "stream",
     "text": [
      "Darjah masuk Rajah 2.5: {0: 1, 1: 1, 2: 2, 3: 2, 4: 1, 5: 1}\n"
     ]
    }
   ],
   "source": [
    "#Bagi G3 (Rajah 2.5)\n",
    "\n",
    "darjah_masuk_G3 =  dict(G3.in_degree(G3.nodes()))\n",
    "\n",
    "nx.set_node_attributes(G3, darjah_masuk_G3, 'darjah_masuk')\n",
    "\n",
    "print(\"Darjah masuk Rajah 2.5:\", darjah_masuk_G3)\n",
    "#output {id bucu, darjah masuk}"
   ]
  },
  {
   "cell_type": "code",
   "execution_count": 16,
   "id": "eb505200",
   "metadata": {},
   "outputs": [
    {
     "name": "stdout",
     "output_type": "stream",
     "text": [
      "Darjah keluar Rajah 2.5: {0: 1, 1: 1, 2: 2, 3: 2, 4: 1, 5: 1}\n"
     ]
    }
   ],
   "source": [
    "#Bagi G3 (Rajah 2.5)\n",
    "\n",
    "darjah_keluar_G3 =  dict(G3.out_degree(G3.nodes()))\n",
    "\n",
    "nx.set_node_attributes(G3, darjah_keluar_G3, 'darjah_keluar')\n",
    "\n",
    "print(\"Darjah keluar Rajah 2.5:\", darjah_keluar_G3)\n",
    "#output {id bucu, darjah keluar}"
   ]
  },
  {
   "cell_type": "code",
   "execution_count": 17,
   "id": "b60c48b6",
   "metadata": {},
   "outputs": [
    {
     "name": "stdout",
     "output_type": "stream",
     "text": [
      "Purata darjah masuk Rajah 2.5: 1.3333333333333333\n",
      "Purata darjah keluar Rajah 2.5: 1.3333333333333333\n"
     ]
    }
   ],
   "source": [
    "#Bagi G3 (Rajah 2.5)\n",
    "\n",
    "bil_bucu_G3 = G3.number_of_nodes()\n",
    "jumlah_darjahmasuk_G3 = sum([d for n, d in G3.in_degree()])\n",
    "jumlah_darjahkeluar_G3 = sum([d for n, d in G3.out_degree()])\n",
    "\n",
    "purata_darjahmasuk_G3 = jumlah_darjahmasuk_G3 / float(bil_bucu_G3)\n",
    "purata_darjahkeluar_G3 = jumlah_darjahkeluar_G3 / float(bil_bucu_G3)\n",
    "\n",
    "\n",
    "print(\"Purata darjah masuk Rajah 2.5:\", purata_darjahmasuk_G3)\n",
    "print(\"Purata darjah keluar Rajah 2.5:\", purata_darjahkeluar_G3)"
   ]
  },
  {
   "cell_type": "markdown",
   "id": "e3b83f38",
   "metadata": {},
   "source": [
    "### Taburan darjah"
   ]
  },
  {
   "cell_type": "code",
   "execution_count": 28,
   "id": "86c9c0db",
   "metadata": {},
   "outputs": [
    {
     "name": "stdout",
     "output_type": "stream",
     "text": [
      "P_k Rajah 2.2: 2    0.666667\n",
      "3    0.333333\n",
      "Name: darjah, dtype: float64\n"
     ]
    }
   ],
   "source": [
    "#Bagi G1 (Rajah 2.2)\n",
    "\n",
    "df_darjah_G1 = pd.DataFrame(G1.degree(), columns=['Bucu', 'darjah'])\n",
    "\n",
    "bil_bucu_darjah_G1 = df_darjah_G1['darjah'].value_counts().sort_index()\n",
    "\n",
    "# Calculate the probability\n",
    "p_k_G1 = bil_bucu_darjah_G1 / bil_bucu_G1\n",
    "\n",
    "print(\"P_k Rajah 2.2:\", p_k_G1)\n",
    "\n",
    "#Output: k, p_k"
   ]
  },
  {
   "cell_type": "code",
   "execution_count": 26,
   "id": "049f8cbd",
   "metadata": {},
   "outputs": [
    {
     "name": "stdout",
     "output_type": "stream",
     "text": [
      "P_k masuk Rajah 2.5: 1    0.666667\n",
      "2    0.333333\n",
      "Name: darjahmasuk, dtype: float64\n",
      "\n",
      "P_k keluar Rajah 2.5: 1    0.666667\n",
      "2    0.333333\n",
      "Name: darjahkeluar, dtype: float64\n"
     ]
    }
   ],
   "source": [
    "#Bagi G3 (Rajah 2.5)\n",
    "\n",
    "df_darjah_masuk_G3 = pd.DataFrame(G3.in_degree(), columns=['Bucu', 'darjahmasuk'])\n",
    "df_darjah_keluar_G3 = pd.DataFrame(G3.out_degree(), columns=['Bucu', 'darjahkeluar'])\n",
    "\n",
    "bil_bucu_darjah_masuk_G3 = df_darjah_masuk_G3['darjahmasuk'].value_counts().sort_index()\n",
    "bil_bucu_darjah_keluar_G3 = df_darjah_keluar_G3['darjahkeluar'].value_counts().sort_index()\n",
    "\n",
    "# Calculate the probability\n",
    "p_k_masuk_G3 = bil_bucu_darjah_masuk_G3 / bil_bucu_G3\n",
    "p_k_keluar_G3 = bil_bucu_darjah_keluar_G3 / bil_bucu_G3\n",
    "\n",
    "print(\"P_k masuk Rajah 2.5:\", p_k_masuk_G3)\n",
    "print(\"\\nP_k keluar Rajah 2.5:\", p_k_keluar_G3)\n",
    "\n",
    "#Output: k, p_k"
   ]
  },
  {
   "cell_type": "markdown",
   "id": "1aebc4e6",
   "metadata": {},
   "source": [
    "### Pemusatan kekuatan dan taburan kekuatan"
   ]
  },
  {
   "cell_type": "code",
   "execution_count": 30,
   "id": "b44a158c",
   "metadata": {},
   "outputs": [
    {
     "name": "stdout",
     "output_type": "stream",
     "text": [
      "Kekuatan Rajah 2.3: {0: 3, 1: 4, 2: 6, 3: 8, 4: 6, 5: 3}\n"
     ]
    }
   ],
   "source": [
    "#Bagi G2 (Rajah 2.3)\n",
    "\n",
    "kekuatan_G2 =  dict(G2.degree(G2.nodes(),weight='weight'))\n",
    "\n",
    "nx.set_node_attributes(G2, kekuatan_G2, 'kekuatandarjah')\n",
    "\n",
    "print(\"Kekuatan Rajah 2.3:\", kekuatan_G2)\n",
    "#output {id bucu: darjah}"
   ]
  },
  {
   "cell_type": "code",
   "execution_count": 32,
   "id": "7de67c2c",
   "metadata": {},
   "outputs": [
    {
     "name": "stdout",
     "output_type": "stream",
     "text": [
      "Purata kekuatan Rajah 2.2: 5.0\n"
     ]
    }
   ],
   "source": [
    "#Bagi G2 (Rajah 2.3)\n",
    "\n",
    "bil_bucu_G2 = G2.number_of_nodes()\n",
    "jumlah_kekuatan_G2 = sum([d for n, d in G2.degree(weight='weight')])\n",
    "\n",
    "purata_kekuatan_G2 = jumlah_kekuatan_G2 / float(bil_bucu_G2)\n",
    "\n",
    "print(\"Purata kekuatan Rajah 2.2:\", purata_kekuatan_G2)"
   ]
  },
  {
   "cell_type": "code",
   "execution_count": 34,
   "id": "05c367a4",
   "metadata": {},
   "outputs": [
    {
     "name": "stdout",
     "output_type": "stream",
     "text": [
      "P_s Rajah 2.3: 3    0.333333\n",
      "4    0.166667\n",
      "6    0.333333\n",
      "8    0.166667\n",
      "Name: kekuatan, dtype: float64\n"
     ]
    }
   ],
   "source": [
    "#Bagi G2 (Rajah 2.3)\n",
    "\n",
    "df_kekuatan_G2 = pd.DataFrame(G2.degree(weight='weight'), columns=['Bucu', 'kekuatan'])\n",
    "\n",
    "bil_bucu_kekuatan_G2 = df_kekuatan_G2['kekuatan'].value_counts().sort_index()\n",
    "\n",
    "# Calculate the probability\n",
    "p_s_G2 = bil_bucu_kekuatan_G2 / bil_bucu_G2\n",
    "\n",
    "print(\"P_s Rajah 2.3:\", p_s_G2)\n",
    "#Output: s, p_s"
   ]
  },
  {
   "cell_type": "markdown",
   "id": "816cc0b8",
   "metadata": {},
   "source": [
    "### Purata laluan terpendek"
   ]
  },
  {
   "cell_type": "code",
   "execution_count": 36,
   "id": "0c574b2e",
   "metadata": {},
   "outputs": [],
   "source": [
    "#Kiraan laluan terpendek untuk setiap bucu\n",
    "def shortest_path(G):\n",
    "    shortestpl_dict = {}\n",
    "    for node in G.nodes():\n",
    "        shortestpl_dict[node] = np.average(\n",
    "            list(nx.shortest_path_length(G, weight=None, source=node).values()))\n",
    "    return shortestpl_dict"
   ]
  },
  {
   "cell_type": "code",
   "execution_count": 37,
   "id": "c451020f",
   "metadata": {},
   "outputs": [
    {
     "name": "stdout",
     "output_type": "stream",
     "text": [
      "Purata laluan terpendek setiap bucu Rajah 2.2: {0: 1.6666666666666667, 1: 1.6666666666666667, 2: 1.1666666666666667, 3: 1.1666666666666667, 4: 1.6666666666666667, 5: 1.6666666666666667}\n",
      "\n",
      "Purata laluan terpendek setiap bucu Rajah 2.3: {0: 1.6666666666666667, 1: 1.6666666666666667, 2: 1.1666666666666667, 3: 1.1666666666666667, 4: 1.6666666666666667, 5: 1.6666666666666667}\n",
      "\n",
      "Purata laluan terpendek setiap bucu Rajah 2.5: {0: 2.5, 1: 2.0, 2: 1.5, 3: 1.5, 4: 2.0, 5: 2.5}\n"
     ]
    }
   ],
   "source": [
    "#G1 (Rajah 2.2), G2 (Rajah 2.3), G3 (Rajah 2.5)\n",
    "\n",
    "purata_laluan_terpendek_G1 = shortest_path(G1)\n",
    "purata_laluan_terpendek_G2 = shortest_path(G2)\n",
    "purata_laluan_terpendek_G3 = shortest_path(G3)\n",
    "\n",
    "print(\"Purata laluan terpendek setiap bucu Rajah 2.2:\", purata_laluan_terpendek_G1)\n",
    "print(\"\\nPurata laluan terpendek setiap bucu Rajah 2.3:\", purata_laluan_terpendek_G2)\n",
    "print(\"\\nPurata laluan terpendek setiap bucu Rajah 2.5:\", purata_laluan_terpendek_G3)"
   ]
  },
  {
   "cell_type": "code",
   "execution_count": 38,
   "id": "6853c074",
   "metadata": {},
   "outputs": [
    {
     "name": "stdout",
     "output_type": "stream",
     "text": [
      "Purata laluan terpendek keseluruhan Rajah 2.2: 1.8\n",
      "\n",
      "Purata laluan terpendek keseluruhan Rajah 2.3: 1.8\n",
      "\n",
      "Purata laluan terpendek keseluruhan Rajah 2.5: 2.4\n"
     ]
    }
   ],
   "source": [
    "#G1 (Rajah 2.2), G2 (Rajah 2.3), G3 (Rajah 2.5)\n",
    "\n",
    "global_purata_laluan_terpendek_G1 = nx.average_shortest_path_length(G1)\n",
    "global_purata_laluan_terpendek_G2 = nx.average_shortest_path_length(G2)\n",
    "global_purata_laluan_terpendek_G3 = nx.average_shortest_path_length(G3)\n",
    "\n",
    "print(\"Purata laluan terpendek keseluruhan Rajah 2.2:\", global_purata_laluan_terpendek_G1)\n",
    "print(\"\\nPurata laluan terpendek keseluruhan Rajah 2.3:\", global_purata_laluan_terpendek_G2)\n",
    "print(\"\\nPurata laluan terpendek keseluruhan Rajah 2.5:\", global_purata_laluan_terpendek_G3)"
   ]
  },
  {
   "cell_type": "markdown",
   "id": "8d69bdb4",
   "metadata": {},
   "source": [
    "### Purata pekali pengelompokan (tidak berpemberat dan berpemberat)"
   ]
  },
  {
   "cell_type": "code",
   "execution_count": 39,
   "id": "44e5eda6",
   "metadata": {},
   "outputs": [
    {
     "name": "stdout",
     "output_type": "stream",
     "text": [
      "Purata pekali pengelompokan Rajah 2.2: 0.7777777777777778\n"
     ]
    }
   ],
   "source": [
    "#G1 (Rajah 2.2)\n",
    "purata_pekali_pengelompokan_G1 = nx.average_clustering(G1)\n",
    "print(\"Purata pekali pengelompokan Rajah 2.2:\", purata_pekali_pengelompokan_G1)"
   ]
  },
  {
   "cell_type": "code",
   "execution_count": 40,
   "id": "f0a28577",
   "metadata": {},
   "outputs": [
    {
     "name": "stdout",
     "output_type": "stream",
     "text": [
      "Purata pekali pengelompokan berpemberat Rajah 2.5: 0.34877510227468606\n"
     ]
    }
   ],
   "source": [
    "#G2 (Rajah 2.3)\n",
    "purata_pekali_pengelompokan_berpemberat_G2 = nx.average_clustering(G2, weight='weight')\n",
    "print(\"Purata pekali pengelompokan berpemberat Rajah 2.5:\", purata_pekali_pengelompokan_berpemberat_G2)"
   ]
  },
  {
   "cell_type": "markdown",
   "id": "91512b3e",
   "metadata": {},
   "source": [
    "### Transitiviti "
   ]
  },
  {
   "cell_type": "code",
   "execution_count": 42,
   "id": "82d9e148",
   "metadata": {},
   "outputs": [
    {
     "name": "stdout",
     "output_type": "stream",
     "text": [
      "Transitiviti Rajah 2.2: 0.6\n",
      "Transitiviti Rajah 2.3: 0.6\n",
      "Transitiviti Rajah 2.5: 0\n"
     ]
    }
   ],
   "source": [
    "#G1 (Rajah 2.2), G2 (Rajah 2.3), G3 (Rajah 2.5)\n",
    "\n",
    "transitiviti_G1 = nx.transitivity(G1)\n",
    "transitiviti_G2 = nx.transitivity(G2)\n",
    "transitiviti_G3 = nx.transitivity(G3)\n",
    "\n",
    "print(\"Transitiviti Rajah 2.2:\", transitiviti_G1)\n",
    "print(\"Transitiviti Rajah 2.3:\", transitiviti_G2)\n",
    "print(\"Transitiviti Rajah 2.5:\", transitiviti_G3)"
   ]
  },
  {
   "cell_type": "markdown",
   "id": "14bc1bc7",
   "metadata": {},
   "source": [
    "### Pemusatan kedekatan"
   ]
  },
  {
   "cell_type": "code",
   "execution_count": 44,
   "id": "f5f1c515",
   "metadata": {},
   "outputs": [
    {
     "name": "stdout",
     "output_type": "stream",
     "text": [
      "CC Rajah 2.2: {0: 0.5, 1: 0.5, 2: 0.7142857142857143, 3: 0.7142857142857143, 4: 0.5, 5: 0.5}\n",
      "CC Rajah 2.3: {0: 0.5, 1: 0.5, 2: 0.7142857142857143, 3: 0.7142857142857143, 4: 0.5, 5: 0.5}\n",
      "CC Rajah 2.5: {0: 0.4166666666666667, 1: 0.3333333333333333, 2: 0.5555555555555556, 3: 0.5555555555555556, 4: 0.3333333333333333, 5: 0.4166666666666667}\n"
     ]
    }
   ],
   "source": [
    "#G1 (Rajah 2.2), G2 (Rajah 2.3), G3 (Rajah 2.5)\n",
    "\n",
    "kedekatan_G1 = nx.closeness_centrality(G1)\n",
    "kedekatan_G2 = nx.closeness_centrality(G2)\n",
    "kedekatan_G3 = nx.closeness_centrality(G3)\n",
    "\n",
    "nx.set_node_attributes(G1, kedekatan_G1, 'kedekatanG1')\n",
    "nx.set_node_attributes(G2, kedekatan_G2, 'kedekatanG2')\n",
    "nx.set_node_attributes(G3, kedekatan_G3, 'kedekatanG3')\n",
    "\n",
    "print(\"CC Rajah 2.2:\", kedekatan_G1)\n",
    "print(\"CC Rajah 2.3:\", kedekatan_G2)\n",
    "print(\"CC Rajah 2.5:\", kedekatan_G3)"
   ]
  },
  {
   "cell_type": "markdown",
   "id": "7b9decb0",
   "metadata": {},
   "source": [
    "### Pemusatan pengantaraan"
   ]
  },
  {
   "cell_type": "code",
   "execution_count": 46,
   "id": "e6db8110",
   "metadata": {},
   "outputs": [
    {
     "name": "stdout",
     "output_type": "stream",
     "text": [
      "BC Rajah 2.2: {0: 0.0, 1: 0.0, 2: 0.6000000000000001, 3: 0.6000000000000001, 4: 0.0, 5: 0.0}\n",
      "BC Rajah 2.3: {0: 0.0, 1: 0.0, 2: 0.6000000000000001, 3: 0.6000000000000001, 4: 0.0, 5: 0.0}\n",
      "BC Rajah 2.5: {0: 0.2, 1: 0.2, 2: 0.65, 3: 0.65, 4: 0.2, 5: 0.2}\n"
     ]
    }
   ],
   "source": [
    "#G1 (Rajah 2.2), G2 (Rajah 2.3), G3 (Rajah 2.5)\n",
    "\n",
    "pengantaraan_G1 = nx.betweenness_centrality(G1)\n",
    "pengantaraan_G2 = nx.betweenness_centrality(G2)\n",
    "pengantaraan_G3 = nx.betweenness_centrality(G3)\n",
    "\n",
    "\n",
    "nx.set_node_attributes(G1, pengantaraan_G1, 'pengantaraanG1')\n",
    "nx.set_node_attributes(G2, pengantaraan_G2, 'pengantaraanG2')\n",
    "nx.set_node_attributes(G3, pengantaraan_G3, 'pengantaraanG3')\n",
    "\n",
    "print(\"BC Rajah 2.2:\", pengantaraan_G1)\n",
    "print(\"BC Rajah 2.3:\", pengantaraan_G2)\n",
    "print(\"BC Rajah 2.5:\", pengantaraan_G3)"
   ]
  },
  {
   "cell_type": "markdown",
   "id": "90830682",
   "metadata": {},
   "source": [
    "### Pemusatan vektor eigen"
   ]
  },
  {
   "cell_type": "code",
   "execution_count": 47,
   "id": "d60468d9",
   "metadata": {},
   "outputs": [
    {
     "name": "stdout",
     "output_type": "stream",
     "text": [
      "EC Rajah 2.2: {0: 0.35355343614372076, 1: 0.35355343614372076, 2: 0.4999999355819319, 3: 0.4999999355819318, 4: 0.35355343614372065, 5: 0.35355343614372065}\n",
      "EC Rajah 2.3: {0: 0.35355343614372076, 1: 0.35355343614372076, 2: 0.4999999355819319, 3: 0.4999999355819318, 4: 0.35355343614372065, 5: 0.35355343614372065}\n",
      "EC Rajah 2.5: {0: 0.37198336205744653, 1: 0.25381463206079957, 2: 0.5451664983326465, 3: 0.5451664983326465, 4: 0.25381463206079957, 5: 0.37198336205744653}\n"
     ]
    }
   ],
   "source": [
    "#G1 (Rajah 2.2), G2 (Rajah 2.3), G3 (Rajah 2.5)\n",
    "\n",
    "vektoreigen_G1 = nx.eigenvector_centrality(G1)\n",
    "vektoreigen_G2 = nx.eigenvector_centrality(G2)\n",
    "vektoreigen_G3 = nx.eigenvector_centrality(G3)\n",
    "\n",
    "nx.set_node_attributes(G1, vektoreigen_G1, 'vektoreigenG1')\n",
    "nx.set_node_attributes(G2, vektoreigen_G2, 'vektoreigenG2')\n",
    "nx.set_node_attributes(G3, vektoreigen_G3, 'vektoreigenG3')\n",
    "\n",
    "print(\"EC Rajah 2.2:\", vektoreigen_G1)\n",
    "print(\"EC Rajah 2.3:\", vektoreigen_G2)\n",
    "print(\"EC Rajah 2.5:\", vektoreigen_G3)"
   ]
  },
  {
   "cell_type": "markdown",
   "id": "ff3d5ed8",
   "metadata": {},
   "source": [
    "### Ciri polinomial dan nilai eigen untuk Rajah 2.2\n"
   ]
  },
  {
   "cell_type": "code",
   "execution_count": 48,
   "id": "4443b4f2",
   "metadata": {},
   "outputs": [
    {
     "data": {
      "text/plain": [
       "array([ 1.00000000e+00,  7.77156117e-16, -7.00000000e+00, -4.00000000e+00,\n",
       "        1.10000000e+01,  1.20000000e+01,  3.00000000e+00])"
      ]
     },
     "execution_count": 48,
     "metadata": {},
     "output_type": "execute_result"
    }
   ],
   "source": [
    "# Kira ciri polinomial\n",
    "ciri_polinomial = np.poly(A1)\n",
    "ciri_polinomial"
   ]
  },
  {
   "cell_type": "code",
   "execution_count": 9,
   "id": "10339d97",
   "metadata": {},
   "outputs": [
    {
     "data": {
      "text/plain": [
       "array([ 2.41421356,  1.73205081, -1.73205081, -1.00000004, -0.99999996,\n",
       "       -0.41421356])"
      ]
     },
     "execution_count": 9,
     "metadata": {},
     "output_type": "execute_result"
    }
   ],
   "source": [
    "# Takrifkan pekali ciri polinomial\n",
    "pekali = [1, 0, -7, -4, 11, 12, 3]\n",
    "\n",
    "# Cari punca polinomial\n",
    "nilai_eigen = np.roots(pekali)\n",
    "nilai_eigen"
   ]
  },
  {
   "cell_type": "code",
   "execution_count": 13,
   "id": "f99983d4",
   "metadata": {},
   "outputs": [
    {
     "data": {
      "text/plain": [
       "array([-0.35355339, -0.35355339, -0.5       , -0.5       , -0.35355339,\n",
       "       -0.35355339])"
      ]
     },
     "execution_count": 13,
     "metadata": {},
     "output_type": "execute_result"
    }
   ],
   "source": [
    "# Nilai eigen\n",
    "nilai_lambda = 2.4142\n",
    "\n",
    "# Matrix A - lambda*I\n",
    "A_lambda_I = A - nilai_lambda * np.eye(6)\n",
    "\n",
    "# Selesaikan vektor eigen\n",
    "U, S, Vh = np.linalg.svd(A_lambda_I)\n",
    "# The eigenvector is the last column of Vh.T (corresponding to the smallest singular value)\n",
    "vektor_eigen = Vh.T[:,-1]\n",
    "vektor_eigen"
   ]
  },
  {
   "cell_type": "markdown",
   "id": "f70d8fdb",
   "metadata": {},
   "source": [
    "### Nilai modulariti Rajah 4.4 "
   ]
  },
  {
   "cell_type": "code",
   "execution_count": 50,
   "id": "e68f0a10",
   "metadata": {},
   "outputs": [
    {
     "data": {
      "text/plain": [
       "0.35714285714285715"
      ]
     },
     "execution_count": 50,
     "metadata": {},
     "output_type": "execute_result"
    }
   ],
   "source": [
    "nx.community.modularity(G1, [{0, 1, 2}, {3, 4, 5}])"
   ]
  },
  {
   "cell_type": "markdown",
   "id": "7ef82fe5",
   "metadata": {},
   "source": [
    "### Nilai modulariti Rajah 4. 5"
   ]
  },
  {
   "cell_type": "code",
   "execution_count": 51,
   "id": "254bbf59",
   "metadata": {},
   "outputs": [
    {
     "data": {
      "text/plain": [
       "0.12244897959183669"
      ]
     },
     "execution_count": 51,
     "metadata": {},
     "output_type": "execute_result"
    }
   ],
   "source": [
    "nx.community.modularity(G1, [{0, 1, 2,3}, {4, 5}])"
   ]
  }
 ],
 "metadata": {
  "kernelspec": {
   "display_name": "Python 3 (ipykernel)",
   "language": "python",
   "name": "python3"
  },
  "language_info": {
   "codemirror_mode": {
    "name": "ipython",
    "version": 3
   },
   "file_extension": ".py",
   "mimetype": "text/x-python",
   "name": "python",
   "nbconvert_exporter": "python",
   "pygments_lexer": "ipython3",
   "version": "3.7.15"
  }
 },
 "nbformat": 4,
 "nbformat_minor": 5
}
